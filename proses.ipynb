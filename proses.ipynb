{
  "cells": [
    {
      "cell_type": "markdown",
      "metadata": {
        "id": "5Y3vg3zDApyt"
      },
      "source": [
        "**Weather prediction ML model.**"
      ]
    },
    {
      "cell_type": "code",
      "execution_count": 1,
      "metadata": {
        "id": "lgPRnAHYBXXq"
      },
      "outputs": [],
      "source": [
        "#import Packages \n",
        "import pandas as pd\n",
        "import numpy as np \n",
        "import matplotlib.pyplot as plt\n",
        "import seaborn as sns\n",
        "%matplotlib inline"
      ]
    },
    {
      "cell_type": "markdown",
      "metadata": {
        "id": "BsExl8tNFvwc"
      },
      "source": [
        "**Preparing the Dataset**"
      ]
    },
    {
      "cell_type": "code",
      "execution_count": 2,
      "metadata": {
        "colab": {
          "base_uri": "https://localhost:8080/",
          "height": 206
        },
        "id": "Mco1VGUWEsul",
        "outputId": "c7bcc10a-f77d-4663-b68a-af30671aa598"
      },
      "outputs": [
        {
          "name": "stdout",
          "output_type": "stream",
          "text": [
            "             Date Time  p (mbar)  T (degC)  Tpot (K)  Tdew (degC)  rh (%)  \\\n",
            "0  01.01.2009 00:10:00    996.52     -8.02    265.40        -8.90    93.3   \n",
            "1  01.01.2009 00:20:00    996.57     -8.41    265.01        -9.28    93.4   \n",
            "2  01.01.2009 00:30:00    996.53     -8.51    264.91        -9.31    93.9   \n",
            "3  01.01.2009 00:40:00    996.51     -8.31    265.12        -9.07    94.2   \n",
            "4  01.01.2009 00:50:00    996.51     -8.27    265.15        -9.04    94.1   \n",
            "\n",
            "   VPmax (mbar)  VPact (mbar)  VPdef (mbar)  sh (g/kg)  H2OC (mmol/mol)  \\\n",
            "0          3.33          3.11          0.22       1.94             3.12   \n",
            "1          3.23          3.02          0.21       1.89             3.03   \n",
            "2          3.21          3.01          0.20       1.88             3.02   \n",
            "3          3.26          3.07          0.19       1.92             3.08   \n",
            "4          3.27          3.08          0.19       1.92             3.09   \n",
            "\n",
            "   rho (g/m**3)  wv (m/s)  max. wv (m/s)  wd (deg)  \n",
            "0       1307.75      1.03           1.75     152.3  \n",
            "1       1309.80      0.72           1.50     136.1  \n",
            "2       1310.24      0.19           0.63     171.6  \n",
            "3       1309.19      0.34           0.50     198.0  \n",
            "4       1309.00      0.32           0.63     214.3  \n"
          ]
        }
      ],
      "source": [
        "from pandas import read_csv\n",
        "dataset = read_csv('Coba.csv', delimiter=r\";\")\n",
        "print(dataset.head())"
      ]
    },
    {
      "cell_type": "code",
      "execution_count": 3,
      "metadata": {
        "colab": {
          "base_uri": "https://localhost:8080/"
        },
        "id": "xcdjYZWuGyFR",
        "outputId": "3b32b970-3ba4-4407-aaf4-e3f900fa89c7"
      },
      "outputs": [
        {
          "name": "stdout",
          "output_type": "stream",
          "text": [
            "<class 'pandas.core.frame.DataFrame'>\n",
            "RangeIndex: 420551 entries, 0 to 420550\n",
            "Data columns (total 15 columns):\n",
            " #   Column           Non-Null Count   Dtype  \n",
            "---  ------           --------------   -----  \n",
            " 0   Date Time        420551 non-null  object \n",
            " 1   p (mbar)         420551 non-null  float64\n",
            " 2   T (degC)         420551 non-null  float64\n",
            " 3   Tpot (K)         420551 non-null  float64\n",
            " 4   Tdew (degC)      420551 non-null  float64\n",
            " 5   rh (%)           420551 non-null  float64\n",
            " 6   VPmax (mbar)     420551 non-null  float64\n",
            " 7   VPact (mbar)     420551 non-null  float64\n",
            " 8   VPdef (mbar)     420551 non-null  float64\n",
            " 9   sh (g/kg)        420551 non-null  float64\n",
            " 10  H2OC (mmol/mol)  420551 non-null  float64\n",
            " 11  rho (g/m**3)     420551 non-null  float64\n",
            " 12  wv (m/s)         420551 non-null  float64\n",
            " 13  max. wv (m/s)    420551 non-null  float64\n",
            " 14  wd (deg)         420551 non-null  float64\n",
            "dtypes: float64(14), object(1)\n",
            "memory usage: 48.1+ MB\n"
          ]
        }
      ],
      "source": [
        "# Information of the Dataset\n",
        "dataset.info()"
      ]
    },
    {
      "cell_type": "code",
      "execution_count": 4,
      "metadata": {},
      "outputs": [],
      "source": [
        "del dataset[\"Date Time\"]"
      ]
    },
    {
      "cell_type": "code",
      "execution_count": 5,
      "metadata": {},
      "outputs": [
        {
          "name": "stdout",
          "output_type": "stream",
          "text": [
            "<class 'pandas.core.frame.DataFrame'>\n",
            "RangeIndex: 420551 entries, 0 to 420550\n",
            "Data columns (total 14 columns):\n",
            " #   Column           Non-Null Count   Dtype  \n",
            "---  ------           --------------   -----  \n",
            " 0   p (mbar)         420551 non-null  float64\n",
            " 1   T (degC)         420551 non-null  float64\n",
            " 2   Tpot (K)         420551 non-null  float64\n",
            " 3   Tdew (degC)      420551 non-null  float64\n",
            " 4   rh (%)           420551 non-null  float64\n",
            " 5   VPmax (mbar)     420551 non-null  float64\n",
            " 6   VPact (mbar)     420551 non-null  float64\n",
            " 7   VPdef (mbar)     420551 non-null  float64\n",
            " 8   sh (g/kg)        420551 non-null  float64\n",
            " 9   H2OC (mmol/mol)  420551 non-null  float64\n",
            " 10  rho (g/m**3)     420551 non-null  float64\n",
            " 11  wv (m/s)         420551 non-null  float64\n",
            " 12  max. wv (m/s)    420551 non-null  float64\n",
            " 13  wd (deg)         420551 non-null  float64\n",
            "dtypes: float64(14)\n",
            "memory usage: 44.9 MB\n"
          ]
        }
      ],
      "source": [
        "dataset.info()"
      ]
    },
    {
      "cell_type": "code",
      "execution_count": 6,
      "metadata": {
        "colab": {
          "base_uri": "https://localhost:8080/",
          "height": 300
        },
        "id": "5tFd-UF0IO3O",
        "outputId": "4c95e28a-a869-4a6e-8801-719797be819c"
      },
      "outputs": [
        {
          "data": {
            "text/html": [
              "<div>\n",
              "<style scoped>\n",
              "    .dataframe tbody tr th:only-of-type {\n",
              "        vertical-align: middle;\n",
              "    }\n",
              "\n",
              "    .dataframe tbody tr th {\n",
              "        vertical-align: top;\n",
              "    }\n",
              "\n",
              "    .dataframe thead th {\n",
              "        text-align: right;\n",
              "    }\n",
              "</style>\n",
              "<table border=\"1\" class=\"dataframe\">\n",
              "  <thead>\n",
              "    <tr style=\"text-align: right;\">\n",
              "      <th></th>\n",
              "      <th>count</th>\n",
              "      <th>mean</th>\n",
              "      <th>std</th>\n",
              "      <th>min</th>\n",
              "      <th>25%</th>\n",
              "      <th>50%</th>\n",
              "      <th>75%</th>\n",
              "      <th>max</th>\n",
              "    </tr>\n",
              "  </thead>\n",
              "  <tbody>\n",
              "    <tr>\n",
              "      <th>p (mbar)</th>\n",
              "      <td>420551.0</td>\n",
              "      <td>989.212776</td>\n",
              "      <td>8.358481</td>\n",
              "      <td>913.60</td>\n",
              "      <td>984.20</td>\n",
              "      <td>989.58</td>\n",
              "      <td>994.72</td>\n",
              "      <td>1015.35</td>\n",
              "    </tr>\n",
              "    <tr>\n",
              "      <th>T (degC)</th>\n",
              "      <td>420551.0</td>\n",
              "      <td>9.450147</td>\n",
              "      <td>8.423365</td>\n",
              "      <td>-23.01</td>\n",
              "      <td>3.36</td>\n",
              "      <td>9.42</td>\n",
              "      <td>15.47</td>\n",
              "      <td>37.28</td>\n",
              "    </tr>\n",
              "    <tr>\n",
              "      <th>Tpot (K)</th>\n",
              "      <td>420551.0</td>\n",
              "      <td>283.492743</td>\n",
              "      <td>8.504471</td>\n",
              "      <td>250.60</td>\n",
              "      <td>277.43</td>\n",
              "      <td>283.47</td>\n",
              "      <td>289.53</td>\n",
              "      <td>311.34</td>\n",
              "    </tr>\n",
              "    <tr>\n",
              "      <th>Tdew (degC)</th>\n",
              "      <td>420551.0</td>\n",
              "      <td>4.955854</td>\n",
              "      <td>6.730674</td>\n",
              "      <td>-25.01</td>\n",
              "      <td>0.24</td>\n",
              "      <td>5.22</td>\n",
              "      <td>10.07</td>\n",
              "      <td>23.11</td>\n",
              "    </tr>\n",
              "    <tr>\n",
              "      <th>rh (%)</th>\n",
              "      <td>420551.0</td>\n",
              "      <td>76.008259</td>\n",
              "      <td>16.476175</td>\n",
              "      <td>12.95</td>\n",
              "      <td>65.21</td>\n",
              "      <td>79.30</td>\n",
              "      <td>89.40</td>\n",
              "      <td>100.00</td>\n",
              "    </tr>\n",
              "    <tr>\n",
              "      <th>VPmax (mbar)</th>\n",
              "      <td>420551.0</td>\n",
              "      <td>13.576251</td>\n",
              "      <td>7.739020</td>\n",
              "      <td>0.95</td>\n",
              "      <td>7.78</td>\n",
              "      <td>11.82</td>\n",
              "      <td>17.60</td>\n",
              "      <td>63.77</td>\n",
              "    </tr>\n",
              "    <tr>\n",
              "      <th>VPact (mbar)</th>\n",
              "      <td>420551.0</td>\n",
              "      <td>9.533756</td>\n",
              "      <td>4.184164</td>\n",
              "      <td>0.79</td>\n",
              "      <td>6.21</td>\n",
              "      <td>8.86</td>\n",
              "      <td>12.35</td>\n",
              "      <td>28.32</td>\n",
              "    </tr>\n",
              "    <tr>\n",
              "      <th>VPdef (mbar)</th>\n",
              "      <td>420551.0</td>\n",
              "      <td>4.042412</td>\n",
              "      <td>4.896851</td>\n",
              "      <td>0.00</td>\n",
              "      <td>0.87</td>\n",
              "      <td>2.19</td>\n",
              "      <td>5.30</td>\n",
              "      <td>46.01</td>\n",
              "    </tr>\n",
              "    <tr>\n",
              "      <th>sh (g/kg)</th>\n",
              "      <td>420551.0</td>\n",
              "      <td>6.022408</td>\n",
              "      <td>2.656139</td>\n",
              "      <td>0.50</td>\n",
              "      <td>3.92</td>\n",
              "      <td>5.59</td>\n",
              "      <td>7.80</td>\n",
              "      <td>18.13</td>\n",
              "    </tr>\n",
              "    <tr>\n",
              "      <th>H2OC (mmol/mol)</th>\n",
              "      <td>420551.0</td>\n",
              "      <td>9.640223</td>\n",
              "      <td>4.235395</td>\n",
              "      <td>0.80</td>\n",
              "      <td>6.29</td>\n",
              "      <td>8.96</td>\n",
              "      <td>12.49</td>\n",
              "      <td>28.82</td>\n",
              "    </tr>\n",
              "    <tr>\n",
              "      <th>rho (g/m**3)</th>\n",
              "      <td>420551.0</td>\n",
              "      <td>1216.062748</td>\n",
              "      <td>39.975208</td>\n",
              "      <td>1059.45</td>\n",
              "      <td>1187.49</td>\n",
              "      <td>1213.79</td>\n",
              "      <td>1242.77</td>\n",
              "      <td>1393.54</td>\n",
              "    </tr>\n",
              "    <tr>\n",
              "      <th>wv (m/s)</th>\n",
              "      <td>420551.0</td>\n",
              "      <td>1.702224</td>\n",
              "      <td>65.446714</td>\n",
              "      <td>-9999.00</td>\n",
              "      <td>0.99</td>\n",
              "      <td>1.76</td>\n",
              "      <td>2.86</td>\n",
              "      <td>28.49</td>\n",
              "    </tr>\n",
              "    <tr>\n",
              "      <th>max. wv (m/s)</th>\n",
              "      <td>420551.0</td>\n",
              "      <td>3.056555</td>\n",
              "      <td>69.016932</td>\n",
              "      <td>-9999.00</td>\n",
              "      <td>1.76</td>\n",
              "      <td>2.96</td>\n",
              "      <td>4.74</td>\n",
              "      <td>23.50</td>\n",
              "    </tr>\n",
              "    <tr>\n",
              "      <th>wd (deg)</th>\n",
              "      <td>420551.0</td>\n",
              "      <td>174.743738</td>\n",
              "      <td>86.681693</td>\n",
              "      <td>0.00</td>\n",
              "      <td>124.90</td>\n",
              "      <td>198.10</td>\n",
              "      <td>234.10</td>\n",
              "      <td>360.00</td>\n",
              "    </tr>\n",
              "  </tbody>\n",
              "</table>\n",
              "</div>"
            ],
            "text/plain": [
              "                    count         mean        std      min      25%      50%  \\\n",
              "p (mbar)         420551.0   989.212776   8.358481   913.60   984.20   989.58   \n",
              "T (degC)         420551.0     9.450147   8.423365   -23.01     3.36     9.42   \n",
              "Tpot (K)         420551.0   283.492743   8.504471   250.60   277.43   283.47   \n",
              "Tdew (degC)      420551.0     4.955854   6.730674   -25.01     0.24     5.22   \n",
              "rh (%)           420551.0    76.008259  16.476175    12.95    65.21    79.30   \n",
              "VPmax (mbar)     420551.0    13.576251   7.739020     0.95     7.78    11.82   \n",
              "VPact (mbar)     420551.0     9.533756   4.184164     0.79     6.21     8.86   \n",
              "VPdef (mbar)     420551.0     4.042412   4.896851     0.00     0.87     2.19   \n",
              "sh (g/kg)        420551.0     6.022408   2.656139     0.50     3.92     5.59   \n",
              "H2OC (mmol/mol)  420551.0     9.640223   4.235395     0.80     6.29     8.96   \n",
              "rho (g/m**3)     420551.0  1216.062748  39.975208  1059.45  1187.49  1213.79   \n",
              "wv (m/s)         420551.0     1.702224  65.446714 -9999.00     0.99     1.76   \n",
              "max. wv (m/s)    420551.0     3.056555  69.016932 -9999.00     1.76     2.96   \n",
              "wd (deg)         420551.0   174.743738  86.681693     0.00   124.90   198.10   \n",
              "\n",
              "                     75%      max  \n",
              "p (mbar)          994.72  1015.35  \n",
              "T (degC)           15.47    37.28  \n",
              "Tpot (K)          289.53   311.34  \n",
              "Tdew (degC)        10.07    23.11  \n",
              "rh (%)             89.40   100.00  \n",
              "VPmax (mbar)       17.60    63.77  \n",
              "VPact (mbar)       12.35    28.32  \n",
              "VPdef (mbar)        5.30    46.01  \n",
              "sh (g/kg)           7.80    18.13  \n",
              "H2OC (mmol/mol)    12.49    28.82  \n",
              "rho (g/m**3)     1242.77  1393.54  \n",
              "wv (m/s)            2.86    28.49  \n",
              "max. wv (m/s)       4.74    23.50  \n",
              "wd (deg)          234.10   360.00  "
            ]
          },
          "execution_count": 6,
          "metadata": {},
          "output_type": "execute_result"
        }
      ],
      "source": [
        "# Summarize the statistics of the Dataset\n",
        "dataset.describe().transpose()"
      ]
    },
    {
      "cell_type": "code",
      "execution_count": 7,
      "metadata": {},
      "outputs": [
        {
          "data": {
            "text/plain": [
              "0.0"
            ]
          },
          "execution_count": 7,
          "metadata": {},
          "output_type": "execute_result"
        }
      ],
      "source": [
        "wv = dataset['wv (m/s)']\n",
        "bad_wv = wv == -9999.0\n",
        "wv[bad_wv] = 0.0\n",
        "\n",
        "max_wv = dataset['max. wv (m/s)']\n",
        "bad_max_wv = max_wv == -9999.0\n",
        "max_wv[bad_max_wv] = 0.0\n",
        "\n",
        "# The above inplace edits are reflected in the DataFrame.\n",
        "dataset['wv (m/s)'].min()"
      ]
    },
    {
      "cell_type": "code",
      "execution_count": 8,
      "metadata": {},
      "outputs": [
        {
          "data": {
            "text/html": [
              "<div>\n",
              "<style scoped>\n",
              "    .dataframe tbody tr th:only-of-type {\n",
              "        vertical-align: middle;\n",
              "    }\n",
              "\n",
              "    .dataframe tbody tr th {\n",
              "        vertical-align: top;\n",
              "    }\n",
              "\n",
              "    .dataframe thead th {\n",
              "        text-align: right;\n",
              "    }\n",
              "</style>\n",
              "<table border=\"1\" class=\"dataframe\">\n",
              "  <thead>\n",
              "    <tr style=\"text-align: right;\">\n",
              "      <th></th>\n",
              "      <th>count</th>\n",
              "      <th>mean</th>\n",
              "      <th>std</th>\n",
              "      <th>min</th>\n",
              "      <th>25%</th>\n",
              "      <th>50%</th>\n",
              "      <th>75%</th>\n",
              "      <th>max</th>\n",
              "    </tr>\n",
              "  </thead>\n",
              "  <tbody>\n",
              "    <tr>\n",
              "      <th>p (mbar)</th>\n",
              "      <td>420551.0</td>\n",
              "      <td>989.212776</td>\n",
              "      <td>8.358481</td>\n",
              "      <td>913.60</td>\n",
              "      <td>984.20</td>\n",
              "      <td>989.58</td>\n",
              "      <td>994.72</td>\n",
              "      <td>1015.35</td>\n",
              "    </tr>\n",
              "    <tr>\n",
              "      <th>T (degC)</th>\n",
              "      <td>420551.0</td>\n",
              "      <td>9.450147</td>\n",
              "      <td>8.423365</td>\n",
              "      <td>-23.01</td>\n",
              "      <td>3.36</td>\n",
              "      <td>9.42</td>\n",
              "      <td>15.47</td>\n",
              "      <td>37.28</td>\n",
              "    </tr>\n",
              "    <tr>\n",
              "      <th>Tpot (K)</th>\n",
              "      <td>420551.0</td>\n",
              "      <td>283.492743</td>\n",
              "      <td>8.504471</td>\n",
              "      <td>250.60</td>\n",
              "      <td>277.43</td>\n",
              "      <td>283.47</td>\n",
              "      <td>289.53</td>\n",
              "      <td>311.34</td>\n",
              "    </tr>\n",
              "    <tr>\n",
              "      <th>Tdew (degC)</th>\n",
              "      <td>420551.0</td>\n",
              "      <td>4.955854</td>\n",
              "      <td>6.730674</td>\n",
              "      <td>-25.01</td>\n",
              "      <td>0.24</td>\n",
              "      <td>5.22</td>\n",
              "      <td>10.07</td>\n",
              "      <td>23.11</td>\n",
              "    </tr>\n",
              "    <tr>\n",
              "      <th>rh (%)</th>\n",
              "      <td>420551.0</td>\n",
              "      <td>76.008259</td>\n",
              "      <td>16.476175</td>\n",
              "      <td>12.95</td>\n",
              "      <td>65.21</td>\n",
              "      <td>79.30</td>\n",
              "      <td>89.40</td>\n",
              "      <td>100.00</td>\n",
              "    </tr>\n",
              "    <tr>\n",
              "      <th>VPmax (mbar)</th>\n",
              "      <td>420551.0</td>\n",
              "      <td>13.576251</td>\n",
              "      <td>7.739020</td>\n",
              "      <td>0.95</td>\n",
              "      <td>7.78</td>\n",
              "      <td>11.82</td>\n",
              "      <td>17.60</td>\n",
              "      <td>63.77</td>\n",
              "    </tr>\n",
              "    <tr>\n",
              "      <th>VPact (mbar)</th>\n",
              "      <td>420551.0</td>\n",
              "      <td>9.533756</td>\n",
              "      <td>4.184164</td>\n",
              "      <td>0.79</td>\n",
              "      <td>6.21</td>\n",
              "      <td>8.86</td>\n",
              "      <td>12.35</td>\n",
              "      <td>28.32</td>\n",
              "    </tr>\n",
              "    <tr>\n",
              "      <th>VPdef (mbar)</th>\n",
              "      <td>420551.0</td>\n",
              "      <td>4.042412</td>\n",
              "      <td>4.896851</td>\n",
              "      <td>0.00</td>\n",
              "      <td>0.87</td>\n",
              "      <td>2.19</td>\n",
              "      <td>5.30</td>\n",
              "      <td>46.01</td>\n",
              "    </tr>\n",
              "    <tr>\n",
              "      <th>sh (g/kg)</th>\n",
              "      <td>420551.0</td>\n",
              "      <td>6.022408</td>\n",
              "      <td>2.656139</td>\n",
              "      <td>0.50</td>\n",
              "      <td>3.92</td>\n",
              "      <td>5.59</td>\n",
              "      <td>7.80</td>\n",
              "      <td>18.13</td>\n",
              "    </tr>\n",
              "    <tr>\n",
              "      <th>H2OC (mmol/mol)</th>\n",
              "      <td>420551.0</td>\n",
              "      <td>9.640223</td>\n",
              "      <td>4.235395</td>\n",
              "      <td>0.80</td>\n",
              "      <td>6.29</td>\n",
              "      <td>8.96</td>\n",
              "      <td>12.49</td>\n",
              "      <td>28.82</td>\n",
              "    </tr>\n",
              "    <tr>\n",
              "      <th>rho (g/m**3)</th>\n",
              "      <td>420551.0</td>\n",
              "      <td>1216.062748</td>\n",
              "      <td>39.975208</td>\n",
              "      <td>1059.45</td>\n",
              "      <td>1187.49</td>\n",
              "      <td>1213.79</td>\n",
              "      <td>1242.77</td>\n",
              "      <td>1393.54</td>\n",
              "    </tr>\n",
              "    <tr>\n",
              "      <th>wv (m/s)</th>\n",
              "      <td>420551.0</td>\n",
              "      <td>2.130191</td>\n",
              "      <td>1.542334</td>\n",
              "      <td>0.00</td>\n",
              "      <td>0.99</td>\n",
              "      <td>1.76</td>\n",
              "      <td>2.86</td>\n",
              "      <td>28.49</td>\n",
              "    </tr>\n",
              "    <tr>\n",
              "      <th>max. wv (m/s)</th>\n",
              "      <td>420551.0</td>\n",
              "      <td>3.532074</td>\n",
              "      <td>2.340482</td>\n",
              "      <td>0.00</td>\n",
              "      <td>1.76</td>\n",
              "      <td>2.96</td>\n",
              "      <td>4.74</td>\n",
              "      <td>23.50</td>\n",
              "    </tr>\n",
              "    <tr>\n",
              "      <th>wd (deg)</th>\n",
              "      <td>420551.0</td>\n",
              "      <td>174.743738</td>\n",
              "      <td>86.681693</td>\n",
              "      <td>0.00</td>\n",
              "      <td>124.90</td>\n",
              "      <td>198.10</td>\n",
              "      <td>234.10</td>\n",
              "      <td>360.00</td>\n",
              "    </tr>\n",
              "  </tbody>\n",
              "</table>\n",
              "</div>"
            ],
            "text/plain": [
              "                    count         mean        std      min      25%      50%  \\\n",
              "p (mbar)         420551.0   989.212776   8.358481   913.60   984.20   989.58   \n",
              "T (degC)         420551.0     9.450147   8.423365   -23.01     3.36     9.42   \n",
              "Tpot (K)         420551.0   283.492743   8.504471   250.60   277.43   283.47   \n",
              "Tdew (degC)      420551.0     4.955854   6.730674   -25.01     0.24     5.22   \n",
              "rh (%)           420551.0    76.008259  16.476175    12.95    65.21    79.30   \n",
              "VPmax (mbar)     420551.0    13.576251   7.739020     0.95     7.78    11.82   \n",
              "VPact (mbar)     420551.0     9.533756   4.184164     0.79     6.21     8.86   \n",
              "VPdef (mbar)     420551.0     4.042412   4.896851     0.00     0.87     2.19   \n",
              "sh (g/kg)        420551.0     6.022408   2.656139     0.50     3.92     5.59   \n",
              "H2OC (mmol/mol)  420551.0     9.640223   4.235395     0.80     6.29     8.96   \n",
              "rho (g/m**3)     420551.0  1216.062748  39.975208  1059.45  1187.49  1213.79   \n",
              "wv (m/s)         420551.0     2.130191   1.542334     0.00     0.99     1.76   \n",
              "max. wv (m/s)    420551.0     3.532074   2.340482     0.00     1.76     2.96   \n",
              "wd (deg)         420551.0   174.743738  86.681693     0.00   124.90   198.10   \n",
              "\n",
              "                     75%      max  \n",
              "p (mbar)          994.72  1015.35  \n",
              "T (degC)           15.47    37.28  \n",
              "Tpot (K)          289.53   311.34  \n",
              "Tdew (degC)        10.07    23.11  \n",
              "rh (%)             89.40   100.00  \n",
              "VPmax (mbar)       17.60    63.77  \n",
              "VPact (mbar)       12.35    28.32  \n",
              "VPdef (mbar)        5.30    46.01  \n",
              "sh (g/kg)           7.80    18.13  \n",
              "H2OC (mmol/mol)    12.49    28.82  \n",
              "rho (g/m**3)     1242.77  1393.54  \n",
              "wv (m/s)            2.86    28.49  \n",
              "max. wv (m/s)       4.74    23.50  \n",
              "wd (deg)          234.10   360.00  "
            ]
          },
          "execution_count": 8,
          "metadata": {},
          "output_type": "execute_result"
        }
      ],
      "source": [
        "dataset.describe().transpose()"
      ]
    },
    {
      "cell_type": "code",
      "execution_count": 9,
      "metadata": {
        "colab": {
          "base_uri": "https://localhost:8080/"
        },
        "id": "RQ-DBGfvInem",
        "outputId": "a09ab81f-5045-410a-fc55-1a939ff819b8"
      },
      "outputs": [
        {
          "data": {
            "text/plain": [
              "p (mbar)           0\n",
              "T (degC)           0\n",
              "Tpot (K)           0\n",
              "Tdew (degC)        0\n",
              "rh (%)             0\n",
              "VPmax (mbar)       0\n",
              "VPact (mbar)       0\n",
              "VPdef (mbar)       0\n",
              "sh (g/kg)          0\n",
              "H2OC (mmol/mol)    0\n",
              "rho (g/m**3)       0\n",
              "wv (m/s)           0\n",
              "max. wv (m/s)      0\n",
              "wd (deg)           0\n",
              "dtype: int64"
            ]
          },
          "execution_count": 9,
          "metadata": {},
          "output_type": "execute_result"
        }
      ],
      "source": [
        "# check the missing value \n",
        "dataset.isnull().sum()"
      ]
    },
    {
      "cell_type": "markdown",
      "metadata": {
        "id": "1xxudLVNKPTD"
      },
      "source": [
        "**EDA - Exploratory Data Analysis**"
      ]
    },
    {
      "cell_type": "code",
      "execution_count": 10,
      "metadata": {
        "colab": {
          "base_uri": "https://localhost:8080/",
          "height": 488
        },
        "id": "RGk7bz9QI7er",
        "outputId": "bbe643ce-3fd9-49c3-c862-ed73b83ba2dc"
      },
      "outputs": [
        {
          "data": {
            "text/html": [
              "<div>\n",
              "<style scoped>\n",
              "    .dataframe tbody tr th:only-of-type {\n",
              "        vertical-align: middle;\n",
              "    }\n",
              "\n",
              "    .dataframe tbody tr th {\n",
              "        vertical-align: top;\n",
              "    }\n",
              "\n",
              "    .dataframe thead th {\n",
              "        text-align: right;\n",
              "    }\n",
              "</style>\n",
              "<table border=\"1\" class=\"dataframe\">\n",
              "  <thead>\n",
              "    <tr style=\"text-align: right;\">\n",
              "      <th></th>\n",
              "      <th>p (mbar)</th>\n",
              "      <th>T (degC)</th>\n",
              "      <th>Tpot (K)</th>\n",
              "      <th>Tdew (degC)</th>\n",
              "      <th>rh (%)</th>\n",
              "      <th>VPmax (mbar)</th>\n",
              "      <th>VPact (mbar)</th>\n",
              "      <th>VPdef (mbar)</th>\n",
              "      <th>sh (g/kg)</th>\n",
              "      <th>H2OC (mmol/mol)</th>\n",
              "      <th>rho (g/m**3)</th>\n",
              "      <th>wv (m/s)</th>\n",
              "      <th>max. wv (m/s)</th>\n",
              "      <th>wd (deg)</th>\n",
              "    </tr>\n",
              "  </thead>\n",
              "  <tbody>\n",
              "    <tr>\n",
              "      <th>p (mbar)</th>\n",
              "      <td>1.000000</td>\n",
              "      <td>-0.045375</td>\n",
              "      <td>-0.124718</td>\n",
              "      <td>-0.066755</td>\n",
              "      <td>-0.018352</td>\n",
              "      <td>-0.031546</td>\n",
              "      <td>-0.054370</td>\n",
              "      <td>-0.003401</td>\n",
              "      <td>-0.069762</td>\n",
              "      <td>-0.069804</td>\n",
              "      <td>0.307640</td>\n",
              "      <td>-0.209613</td>\n",
              "      <td>-0.204798</td>\n",
              "      <td>-0.063258</td>\n",
              "    </tr>\n",
              "    <tr>\n",
              "      <th>T (degC)</th>\n",
              "      <td>-0.045375</td>\n",
              "      <td>1.000000</td>\n",
              "      <td>0.996827</td>\n",
              "      <td>0.895708</td>\n",
              "      <td>-0.572416</td>\n",
              "      <td>0.951113</td>\n",
              "      <td>0.867673</td>\n",
              "      <td>0.761744</td>\n",
              "      <td>0.866755</td>\n",
              "      <td>0.867177</td>\n",
              "      <td>-0.963410</td>\n",
              "      <td>0.088368</td>\n",
              "      <td>0.125060</td>\n",
              "      <td>0.038732</td>\n",
              "    </tr>\n",
              "    <tr>\n",
              "      <th>Tpot (K)</th>\n",
              "      <td>-0.124718</td>\n",
              "      <td>0.996827</td>\n",
              "      <td>1.000000</td>\n",
              "      <td>0.894911</td>\n",
              "      <td>-0.567127</td>\n",
              "      <td>0.947293</td>\n",
              "      <td>0.866205</td>\n",
              "      <td>0.756962</td>\n",
              "      <td>0.866533</td>\n",
              "      <td>0.866955</td>\n",
              "      <td>-0.981345</td>\n",
              "      <td>0.104622</td>\n",
              "      <td>0.140668</td>\n",
              "      <td>0.043599</td>\n",
              "    </tr>\n",
              "    <tr>\n",
              "      <th>Tdew (degC)</th>\n",
              "      <td>-0.066755</td>\n",
              "      <td>0.895708</td>\n",
              "      <td>0.894911</td>\n",
              "      <td>1.000000</td>\n",
              "      <td>-0.156615</td>\n",
              "      <td>0.799271</td>\n",
              "      <td>0.968344</td>\n",
              "      <td>0.435752</td>\n",
              "      <td>0.967599</td>\n",
              "      <td>0.968044</td>\n",
              "      <td>-0.885232</td>\n",
              "      <td>-0.053688</td>\n",
              "      <td>-0.036217</td>\n",
              "      <td>0.049877</td>\n",
              "    </tr>\n",
              "    <tr>\n",
              "      <th>rh (%)</th>\n",
              "      <td>-0.018352</td>\n",
              "      <td>-0.572416</td>\n",
              "      <td>-0.567127</td>\n",
              "      <td>-0.156615</td>\n",
              "      <td>1.000000</td>\n",
              "      <td>-0.615842</td>\n",
              "      <td>-0.151494</td>\n",
              "      <td>-0.843835</td>\n",
              "      <td>-0.150841</td>\n",
              "      <td>-0.150969</td>\n",
              "      <td>0.514282</td>\n",
              "      <td>-0.312213</td>\n",
              "      <td>-0.362919</td>\n",
              "      <td>-0.015912</td>\n",
              "    </tr>\n",
              "    <tr>\n",
              "      <th>VPmax (mbar)</th>\n",
              "      <td>-0.031546</td>\n",
              "      <td>0.951113</td>\n",
              "      <td>0.947293</td>\n",
              "      <td>0.799271</td>\n",
              "      <td>-0.615842</td>\n",
              "      <td>1.000000</td>\n",
              "      <td>0.824865</td>\n",
              "      <td>0.875588</td>\n",
              "      <td>0.824460</td>\n",
              "      <td>0.824493</td>\n",
              "      <td>-0.901536</td>\n",
              "      <td>0.092458</td>\n",
              "      <td>0.126374</td>\n",
              "      <td>-0.009583</td>\n",
              "    </tr>\n",
              "    <tr>\n",
              "      <th>VPact (mbar)</th>\n",
              "      <td>-0.054370</td>\n",
              "      <td>0.867673</td>\n",
              "      <td>0.866205</td>\n",
              "      <td>0.968344</td>\n",
              "      <td>-0.151494</td>\n",
              "      <td>0.824865</td>\n",
              "      <td>1.000000</td>\n",
              "      <td>0.449154</td>\n",
              "      <td>0.999851</td>\n",
              "      <td>0.999856</td>\n",
              "      <td>-0.850241</td>\n",
              "      <td>-0.068902</td>\n",
              "      <td>-0.055910</td>\n",
              "      <td>0.018418</td>\n",
              "    </tr>\n",
              "    <tr>\n",
              "      <th>VPdef (mbar)</th>\n",
              "      <td>-0.003401</td>\n",
              "      <td>0.761744</td>\n",
              "      <td>0.756962</td>\n",
              "      <td>0.435752</td>\n",
              "      <td>-0.843835</td>\n",
              "      <td>0.875588</td>\n",
              "      <td>0.449154</td>\n",
              "      <td>1.000000</td>\n",
              "      <td>0.448641</td>\n",
              "      <td>0.448689</td>\n",
              "      <td>-0.698290</td>\n",
              "      <td>0.204997</td>\n",
              "      <td>0.247497</td>\n",
              "      <td>-0.030881</td>\n",
              "    </tr>\n",
              "    <tr>\n",
              "      <th>sh (g/kg)</th>\n",
              "      <td>-0.069762</td>\n",
              "      <td>0.866755</td>\n",
              "      <td>0.866533</td>\n",
              "      <td>0.967599</td>\n",
              "      <td>-0.150841</td>\n",
              "      <td>0.824460</td>\n",
              "      <td>0.999851</td>\n",
              "      <td>0.448641</td>\n",
              "      <td>1.000000</td>\n",
              "      <td>0.999997</td>\n",
              "      <td>-0.853325</td>\n",
              "      <td>-0.065399</td>\n",
              "      <td>-0.052563</td>\n",
              "      <td>0.019376</td>\n",
              "    </tr>\n",
              "    <tr>\n",
              "      <th>H2OC (mmol/mol)</th>\n",
              "      <td>-0.069804</td>\n",
              "      <td>0.867177</td>\n",
              "      <td>0.866955</td>\n",
              "      <td>0.968044</td>\n",
              "      <td>-0.150969</td>\n",
              "      <td>0.824493</td>\n",
              "      <td>0.999856</td>\n",
              "      <td>0.448689</td>\n",
              "      <td>0.999997</td>\n",
              "      <td>1.000000</td>\n",
              "      <td>-0.853769</td>\n",
              "      <td>-0.065322</td>\n",
              "      <td>-0.052453</td>\n",
              "      <td>0.019607</td>\n",
              "    </tr>\n",
              "    <tr>\n",
              "      <th>rho (g/m**3)</th>\n",
              "      <td>0.307640</td>\n",
              "      <td>-0.963410</td>\n",
              "      <td>-0.981345</td>\n",
              "      <td>-0.885232</td>\n",
              "      <td>0.514282</td>\n",
              "      <td>-0.901536</td>\n",
              "      <td>-0.850241</td>\n",
              "      <td>-0.698290</td>\n",
              "      <td>-0.853325</td>\n",
              "      <td>-0.853769</td>\n",
              "      <td>1.000000</td>\n",
              "      <td>-0.130887</td>\n",
              "      <td>-0.163845</td>\n",
              "      <td>-0.058072</td>\n",
              "    </tr>\n",
              "    <tr>\n",
              "      <th>wv (m/s)</th>\n",
              "      <td>-0.209613</td>\n",
              "      <td>0.088368</td>\n",
              "      <td>0.104622</td>\n",
              "      <td>-0.053688</td>\n",
              "      <td>-0.312213</td>\n",
              "      <td>0.092458</td>\n",
              "      <td>-0.068902</td>\n",
              "      <td>0.204997</td>\n",
              "      <td>-0.065399</td>\n",
              "      <td>-0.065322</td>\n",
              "      <td>-0.130887</td>\n",
              "      <td>1.000000</td>\n",
              "      <td>0.956930</td>\n",
              "      <td>-0.057787</td>\n",
              "    </tr>\n",
              "    <tr>\n",
              "      <th>max. wv (m/s)</th>\n",
              "      <td>-0.204798</td>\n",
              "      <td>0.125060</td>\n",
              "      <td>0.140668</td>\n",
              "      <td>-0.036217</td>\n",
              "      <td>-0.362919</td>\n",
              "      <td>0.126374</td>\n",
              "      <td>-0.055910</td>\n",
              "      <td>0.247497</td>\n",
              "      <td>-0.052563</td>\n",
              "      <td>-0.052453</td>\n",
              "      <td>-0.163845</td>\n",
              "      <td>0.956930</td>\n",
              "      <td>1.000000</td>\n",
              "      <td>-0.003325</td>\n",
              "    </tr>\n",
              "    <tr>\n",
              "      <th>wd (deg)</th>\n",
              "      <td>-0.063258</td>\n",
              "      <td>0.038732</td>\n",
              "      <td>0.043599</td>\n",
              "      <td>0.049877</td>\n",
              "      <td>-0.015912</td>\n",
              "      <td>-0.009583</td>\n",
              "      <td>0.018418</td>\n",
              "      <td>-0.030881</td>\n",
              "      <td>0.019376</td>\n",
              "      <td>0.019607</td>\n",
              "      <td>-0.058072</td>\n",
              "      <td>-0.057787</td>\n",
              "      <td>-0.003325</td>\n",
              "      <td>1.000000</td>\n",
              "    </tr>\n",
              "  </tbody>\n",
              "</table>\n",
              "</div>"
            ],
            "text/plain": [
              "                 p (mbar)  T (degC)  Tpot (K)  Tdew (degC)    rh (%)  \\\n",
              "p (mbar)         1.000000 -0.045375 -0.124718    -0.066755 -0.018352   \n",
              "T (degC)        -0.045375  1.000000  0.996827     0.895708 -0.572416   \n",
              "Tpot (K)        -0.124718  0.996827  1.000000     0.894911 -0.567127   \n",
              "Tdew (degC)     -0.066755  0.895708  0.894911     1.000000 -0.156615   \n",
              "rh (%)          -0.018352 -0.572416 -0.567127    -0.156615  1.000000   \n",
              "VPmax (mbar)    -0.031546  0.951113  0.947293     0.799271 -0.615842   \n",
              "VPact (mbar)    -0.054370  0.867673  0.866205     0.968344 -0.151494   \n",
              "VPdef (mbar)    -0.003401  0.761744  0.756962     0.435752 -0.843835   \n",
              "sh (g/kg)       -0.069762  0.866755  0.866533     0.967599 -0.150841   \n",
              "H2OC (mmol/mol) -0.069804  0.867177  0.866955     0.968044 -0.150969   \n",
              "rho (g/m**3)     0.307640 -0.963410 -0.981345    -0.885232  0.514282   \n",
              "wv (m/s)        -0.209613  0.088368  0.104622    -0.053688 -0.312213   \n",
              "max. wv (m/s)   -0.204798  0.125060  0.140668    -0.036217 -0.362919   \n",
              "wd (deg)        -0.063258  0.038732  0.043599     0.049877 -0.015912   \n",
              "\n",
              "                 VPmax (mbar)  VPact (mbar)  VPdef (mbar)  sh (g/kg)  \\\n",
              "p (mbar)            -0.031546     -0.054370     -0.003401  -0.069762   \n",
              "T (degC)             0.951113      0.867673      0.761744   0.866755   \n",
              "Tpot (K)             0.947293      0.866205      0.756962   0.866533   \n",
              "Tdew (degC)          0.799271      0.968344      0.435752   0.967599   \n",
              "rh (%)              -0.615842     -0.151494     -0.843835  -0.150841   \n",
              "VPmax (mbar)         1.000000      0.824865      0.875588   0.824460   \n",
              "VPact (mbar)         0.824865      1.000000      0.449154   0.999851   \n",
              "VPdef (mbar)         0.875588      0.449154      1.000000   0.448641   \n",
              "sh (g/kg)            0.824460      0.999851      0.448641   1.000000   \n",
              "H2OC (mmol/mol)      0.824493      0.999856      0.448689   0.999997   \n",
              "rho (g/m**3)        -0.901536     -0.850241     -0.698290  -0.853325   \n",
              "wv (m/s)             0.092458     -0.068902      0.204997  -0.065399   \n",
              "max. wv (m/s)        0.126374     -0.055910      0.247497  -0.052563   \n",
              "wd (deg)            -0.009583      0.018418     -0.030881   0.019376   \n",
              "\n",
              "                 H2OC (mmol/mol)  rho (g/m**3)  wv (m/s)  max. wv (m/s)  \\\n",
              "p (mbar)               -0.069804      0.307640 -0.209613      -0.204798   \n",
              "T (degC)                0.867177     -0.963410  0.088368       0.125060   \n",
              "Tpot (K)                0.866955     -0.981345  0.104622       0.140668   \n",
              "Tdew (degC)             0.968044     -0.885232 -0.053688      -0.036217   \n",
              "rh (%)                 -0.150969      0.514282 -0.312213      -0.362919   \n",
              "VPmax (mbar)            0.824493     -0.901536  0.092458       0.126374   \n",
              "VPact (mbar)            0.999856     -0.850241 -0.068902      -0.055910   \n",
              "VPdef (mbar)            0.448689     -0.698290  0.204997       0.247497   \n",
              "sh (g/kg)               0.999997     -0.853325 -0.065399      -0.052563   \n",
              "H2OC (mmol/mol)         1.000000     -0.853769 -0.065322      -0.052453   \n",
              "rho (g/m**3)           -0.853769      1.000000 -0.130887      -0.163845   \n",
              "wv (m/s)               -0.065322     -0.130887  1.000000       0.956930   \n",
              "max. wv (m/s)          -0.052453     -0.163845  0.956930       1.000000   \n",
              "wd (deg)                0.019607     -0.058072 -0.057787      -0.003325   \n",
              "\n",
              "                 wd (deg)  \n",
              "p (mbar)        -0.063258  \n",
              "T (degC)         0.038732  \n",
              "Tpot (K)         0.043599  \n",
              "Tdew (degC)      0.049877  \n",
              "rh (%)          -0.015912  \n",
              "VPmax (mbar)    -0.009583  \n",
              "VPact (mbar)     0.018418  \n",
              "VPdef (mbar)    -0.030881  \n",
              "sh (g/kg)        0.019376  \n",
              "H2OC (mmol/mol)  0.019607  \n",
              "rho (g/m**3)    -0.058072  \n",
              "wv (m/s)        -0.057787  \n",
              "max. wv (m/s)   -0.003325  \n",
              "wd (deg)         1.000000  "
            ]
          },
          "execution_count": 10,
          "metadata": {},
          "output_type": "execute_result"
        }
      ],
      "source": [
        "# Check the Correlated features\n",
        "dataset.corr().transpose()"
      ]
    },
    {
      "cell_type": "code",
      "execution_count": 11,
      "metadata": {},
      "outputs": [],
      "source": [
        "dataset.drop (columns=[\"p (mbar)\", \"wd (deg)\", \"max. wv (m/s)\",\n",
        "             \"wv (m/s)\", \"sh (g/kg)\", \"VPdef (mbar)\", \n",
        "             \"VPact (mbar)\", \"Tdew (degC)\", \"rh (%)\", \n",
        "             \"Tpot (K)\", \"p (mbar)\"], inplace=True)"
      ]
    },
    {
      "cell_type": "code",
      "execution_count": 12,
      "metadata": {},
      "outputs": [
        {
          "name": "stdout",
          "output_type": "stream",
          "text": [
            "<class 'pandas.core.frame.DataFrame'>\n",
            "RangeIndex: 420551 entries, 0 to 420550\n",
            "Data columns (total 4 columns):\n",
            " #   Column           Non-Null Count   Dtype  \n",
            "---  ------           --------------   -----  \n",
            " 0   T (degC)         420551 non-null  float64\n",
            " 1   VPmax (mbar)     420551 non-null  float64\n",
            " 2   H2OC (mmol/mol)  420551 non-null  float64\n",
            " 3   rho (g/m**3)     420551 non-null  float64\n",
            "dtypes: float64(4)\n",
            "memory usage: 12.8 MB\n"
          ]
        }
      ],
      "source": [
        "dataset.info()"
      ]
    },
    {
      "cell_type": "code",
      "execution_count": 13,
      "metadata": {
        "colab": {
          "base_uri": "https://localhost:8080/",
          "height": 285
        },
        "id": "4zvrD3_7K7il",
        "outputId": "3cd61d39-3a9c-4316-8847-914d93fe5adf"
      },
      "outputs": [
        {
          "data": {
            "image/png": "[encoded data removed]",
            "text/plain": [
              "<Figure size 640x480 with 1 Axes>"
            ]
          },
          "metadata": {},
          "output_type": "display_data"
        }
      ],
      "source": [
        "# Plotting between Independant and Dependent Features\n",
        "# VPmax vs T (strong positive correlation)\n",
        "plt.scatter(dataset['VPmax (mbar)'], dataset['T (degC)'])\n",
        "plt.xlabel('VPmax (mbar)')\n",
        "plt.ylabel('T (degC)')\n",
        "plt.show()"
      ]
    },
    {
      "cell_type": "markdown",
      "metadata": {
        "id": "m5qM9EMFttgu"
      },
      "source": [
        "The above Scatter plot shows that when 'RM' increases the 'price' also increases(Strong Postive Correlation)."
      ]
    },
    {
      "cell_type": "code",
      "execution_count": 14,
      "metadata": {
        "colab": {
          "base_uri": "https://localhost:8080/",
          "height": 285
        },
        "id": "fTt98PfRq_DC",
        "outputId": "4c637aeb-b37c-4e4a-ade4-8a0942a1151d"
      },
      "outputs": [
        {
          "data": {
            "image/png": "[encoded data removed]",
            "text/plain": [
              "<Figure size 640x480 with 1 Axes>"
            ]
          },
          "metadata": {},
          "output_type": "display_data"
        }
      ],
      "source": [
        "# H2OC vs T (Strong Positive Correlation)\n",
        "plt.scatter(dataset['H2OC (mmol/mol)'], dataset['T (degC)'])\n",
        "plt.xlabel('H2OC (mmol/mol)')\n",
        "plt.ylabel('T (degC)')\n",
        "plt.show()"
      ]
    },
    {
      "cell_type": "code",
      "execution_count": 15,
      "metadata": {},
      "outputs": [
        {
          "data": {
            "image/png": "[encoded data removed]",
            "text/plain": [
              "<Figure size 640x480 with 1 Axes>"
            ]
          },
          "metadata": {},
          "output_type": "display_data"
        }
      ],
      "source": [
        "# Rho vs T (Strong Negative Correlation)\n",
        "plt.scatter(dataset['rho (g/m**3)'], dataset['T (degC)'])\n",
        "plt.xlabel('rho (g/m**3)')\n",
        "plt.ylabel('T (degC)')\n",
        "plt.show()"
      ]
    },
    {
      "cell_type": "markdown",
      "metadata": {
        "id": "RlIYEAZCvG8v"
      },
      "source": [
        "The above Scatter plot shows that when 'LSTAT' increases the 'price' decreases((Strong Postive Correlation)."
      ]
    },
    {
      "cell_type": "code",
      "execution_count": 16,
      "metadata": {
        "colab": {
          "base_uri": "https://localhost:8080/",
          "height": 285
        },
        "id": "NpCMqmNusswH",
        "outputId": "891c6e94-1a5d-44c9-9b6c-ef816e03fdae"
      },
      "outputs": [
        {
          "data": {
            "image/png": "[encoded data removed]",
            "text/plain": [
              "<Figure size 640x480 with 1 Axes>"
            ]
          },
          "metadata": {},
          "output_type": "display_data"
        }
      ],
      "source": [
        "#Regression Plot between 'RM' and 'price'.\n",
        "sns.regplot(x='VPmax (mbar)', y='T (degC)', data=dataset)\n",
        "plt.show()"
      ]
    },
    {
      "cell_type": "code",
      "execution_count": 17,
      "metadata": {
        "colab": {
          "base_uri": "https://localhost:8080/",
          "height": 285
        },
        "id": "NtzJ1Fe4tKJC",
        "outputId": "b7c8737f-f1b7-4391-9c1c-a4b8b8da038f"
      },
      "outputs": [
        {
          "data": {
            "image/png": "[encoded data removed]",
            "text/plain": [
              "<Figure size 640x480 with 1 Axes>"
            ]
          },
          "metadata": {},
          "output_type": "display_data"
        }
      ],
      "source": [
        "#Regression Plot between 'LSTAT' and 'price'.\n",
        "sns.regplot(x='H2OC (mmol/mol)', y='T (degC)', data = dataset)\n",
        "plt.show()"
      ]
    },
    {
      "cell_type": "code",
      "execution_count": 18,
      "metadata": {},
      "outputs": [
        {
          "data": {
            "image/png": "[encoded data removed]",
            "text/plain": [
              "<Figure size 640x480 with 1 Axes>"
            ]
          },
          "metadata": {},
          "output_type": "display_data"
        }
      ],
      "source": [
        "sns.regplot(x='rho (g/m**3)', y='T (degC)', data = dataset)\n",
        "plt.show()"
      ]
    },
    {
      "cell_type": "code",
      "execution_count": 19,
      "metadata": {
        "colab": {
          "base_uri": "https://localhost:8080/",
          "height": 504
        },
        "id": "1O04H6zStoHC",
        "outputId": "3799dd3e-04bb-4a5f-fb63-8d0b9265f9b2"
      },
      "outputs": [
        {
          "data": {
            "image/png": "[encoded data removed]",
            "text/plain": [
              "<Figure size 640x480 with 2 Axes>"
            ]
          },
          "metadata": {},
          "output_type": "display_data"
        }
      ],
      "source": [
        "# Plotting a Heatmap between Independant and Dependent Features\n",
        "corr = dataset.corr().round(2)\n",
        "sns.set()\n",
        "sns.heatmap(data=corr, annot=True)\n",
        "plt.show()"
      ]
    },
    {
      "cell_type": "markdown",
      "metadata": {
        "id": "FRuKCi5exqIe"
      },
      "source": [
        "**Spliting the Data**"
      ]
    },
    {
      "cell_type": "code",
      "execution_count": 20,
      "metadata": {
        "id": "dDbUj3i4wsNl"
      },
      "outputs": [],
      "source": [
        "# split the Independent and dependent features\n",
        "\n",
        "X = dataset.iloc[:, 1:]\n",
        "y = dataset.iloc[:, 1]"
      ]
    },
    {
      "cell_type": "code",
      "execution_count": 21,
      "metadata": {
        "colab": {
          "base_uri": "https://localhost:8080/",
          "height": 423
        },
        "id": "j9dU2Cx6yPLu",
        "outputId": "feef0918-b97e-44c9-8160-d56c5b6924c8"
      },
      "outputs": [
        {
          "data": {
            "text/html": [
              "<div>\n",
              "<style scoped>\n",
              "    .dataframe tbody tr th:only-of-type {\n",
              "        vertical-align: middle;\n",
              "    }\n",
              "\n",
              "    .dataframe tbody tr th {\n",
              "        vertical-align: top;\n",
              "    }\n",
              "\n",
              "    .dataframe thead th {\n",
              "        text-align: right;\n",
              "    }\n",
              "</style>\n",
              "<table border=\"1\" class=\"dataframe\">\n",
              "  <thead>\n",
              "    <tr style=\"text-align: right;\">\n",
              "      <th></th>\n",
              "      <th>VPmax (mbar)</th>\n",
              "      <th>H2OC (mmol/mol)</th>\n",
              "      <th>rho (g/m**3)</th>\n",
              "    </tr>\n",
              "  </thead>\n",
              "  <tbody>\n",
              "    <tr>\n",
              "      <th>0</th>\n",
              "      <td>3.33</td>\n",
              "      <td>3.12</td>\n",
              "      <td>1307.75</td>\n",
              "    </tr>\n",
              "    <tr>\n",
              "      <th>1</th>\n",
              "      <td>3.23</td>\n",
              "      <td>3.03</td>\n",
              "      <td>1309.80</td>\n",
              "    </tr>\n",
              "    <tr>\n",
              "      <th>2</th>\n",
              "      <td>3.21</td>\n",
              "      <td>3.02</td>\n",
              "      <td>1310.24</td>\n",
              "    </tr>\n",
              "    <tr>\n",
              "      <th>3</th>\n",
              "      <td>3.26</td>\n",
              "      <td>3.08</td>\n",
              "      <td>1309.19</td>\n",
              "    </tr>\n",
              "    <tr>\n",
              "      <th>4</th>\n",
              "      <td>3.27</td>\n",
              "      <td>3.09</td>\n",
              "      <td>1309.00</td>\n",
              "    </tr>\n",
              "    <tr>\n",
              "      <th>...</th>\n",
              "      <td>...</td>\n",
              "      <td>...</td>\n",
              "      <td>...</td>\n",
              "    </tr>\n",
              "    <tr>\n",
              "      <th>420546</th>\n",
              "      <td>4.52</td>\n",
              "      <td>3.30</td>\n",
              "      <td>1292.98</td>\n",
              "    </tr>\n",
              "    <tr>\n",
              "      <th>420547</th>\n",
              "      <td>4.77</td>\n",
              "      <td>3.32</td>\n",
              "      <td>1289.44</td>\n",
              "    </tr>\n",
              "    <tr>\n",
              "      <th>420548</th>\n",
              "      <td>4.84</td>\n",
              "      <td>3.28</td>\n",
              "      <td>1288.39</td>\n",
              "    </tr>\n",
              "    <tr>\n",
              "      <th>420549</th>\n",
              "      <td>4.46</td>\n",
              "      <td>3.20</td>\n",
              "      <td>1293.56</td>\n",
              "    </tr>\n",
              "    <tr>\n",
              "      <th>420550</th>\n",
              "      <td>4.27</td>\n",
              "      <td>3.23</td>\n",
              "      <td>1296.38</td>\n",
              "    </tr>\n",
              "  </tbody>\n",
              "</table>\n",
              "<p>420551 rows × 3 columns</p>\n",
              "</div>"
            ],
            "text/plain": [
              "        VPmax (mbar)  H2OC (mmol/mol)  rho (g/m**3)\n",
              "0               3.33             3.12       1307.75\n",
              "1               3.23             3.03       1309.80\n",
              "2               3.21             3.02       1310.24\n",
              "3               3.26             3.08       1309.19\n",
              "4               3.27             3.09       1309.00\n",
              "...              ...              ...           ...\n",
              "420546          4.52             3.30       1292.98\n",
              "420547          4.77             3.32       1289.44\n",
              "420548          4.84             3.28       1288.39\n",
              "420549          4.46             3.20       1293.56\n",
              "420550          4.27             3.23       1296.38\n",
              "\n",
              "[420551 rows x 3 columns]"
            ]
          },
          "execution_count": 21,
          "metadata": {},
          "output_type": "execute_result"
        }
      ],
      "source": [
        "X"
      ]
    },
    {
      "cell_type": "code",
      "execution_count": 22,
      "metadata": {
        "colab": {
          "base_uri": "https://localhost:8080/"
        },
        "id": "HMZjHIxHyVvz",
        "outputId": "39e3fcf6-d693-4afd-8ba5-061e7c3c3add"
      },
      "outputs": [
        {
          "data": {
            "text/plain": [
              "0         3.33\n",
              "1         3.23\n",
              "2         3.21\n",
              "3         3.26\n",
              "4         3.27\n",
              "          ... \n",
              "420546    4.52\n",
              "420547    4.77\n",
              "420548    4.84\n",
              "420549    4.46\n",
              "420550    4.27\n",
              "Name: VPmax (mbar), Length: 420551, dtype: float64"
            ]
          },
          "execution_count": 22,
          "metadata": {},
          "output_type": "execute_result"
        }
      ],
      "source": [
        "y"
      ]
    },
    {
      "cell_type": "code",
      "execution_count": 23,
      "metadata": {
        "id": "Xd85w_6_ybkk"
      },
      "outputs": [],
      "source": [
        "# train_test_split \n",
        "from sklearn.model_selection import train_test_split\n",
        "X_train, X_test, y_train, y_test = train_test_split(X, y, test_size=0.3, random_state=42)"
      ]
    },
    {
      "cell_type": "code",
      "execution_count": 24,
      "metadata": {
        "colab": {
          "base_uri": "https://localhost:8080/",
          "height": 423
        },
        "id": "qtYyLqcAzaVc",
        "outputId": "7801cc34-86bc-43aa-fdc0-a66e373c3baa"
      },
      "outputs": [
        {
          "data": {
            "text/html": [
              "<div>\n",
              "<style scoped>\n",
              "    .dataframe tbody tr th:only-of-type {\n",
              "        vertical-align: middle;\n",
              "    }\n",
              "\n",
              "    .dataframe tbody tr th {\n",
              "        vertical-align: top;\n",
              "    }\n",
              "\n",
              "    .dataframe thead th {\n",
              "        text-align: right;\n",
              "    }\n",
              "</style>\n",
              "<table border=\"1\" class=\"dataframe\">\n",
              "  <thead>\n",
              "    <tr style=\"text-align: right;\">\n",
              "      <th></th>\n",
              "      <th>VPmax (mbar)</th>\n",
              "      <th>H2OC (mmol/mol)</th>\n",
              "      <th>rho (g/m**3)</th>\n",
              "    </tr>\n",
              "  </thead>\n",
              "  <tbody>\n",
              "    <tr>\n",
              "      <th>167</th>\n",
              "      <td>4.34</td>\n",
              "      <td>4.14</td>\n",
              "      <td>1292.83</td>\n",
              "    </tr>\n",
              "    <tr>\n",
              "      <th>23877</th>\n",
              "      <td>16.62</td>\n",
              "      <td>15.84</td>\n",
              "      <td>1185.59</td>\n",
              "    </tr>\n",
              "    <tr>\n",
              "      <th>329918</th>\n",
              "      <td>16.95</td>\n",
              "      <td>9.38</td>\n",
              "      <td>1205.72</td>\n",
              "    </tr>\n",
              "    <tr>\n",
              "      <th>253117</th>\n",
              "      <td>19.31</td>\n",
              "      <td>14.33</td>\n",
              "      <td>1176.20</td>\n",
              "    </tr>\n",
              "    <tr>\n",
              "      <th>46683</th>\n",
              "      <td>10.89</td>\n",
              "      <td>8.99</td>\n",
              "      <td>1232.85</td>\n",
              "    </tr>\n",
              "    <tr>\n",
              "      <th>...</th>\n",
              "      <td>...</td>\n",
              "      <td>...</td>\n",
              "      <td>...</td>\n",
              "    </tr>\n",
              "    <tr>\n",
              "      <th>259178</th>\n",
              "      <td>7.70</td>\n",
              "      <td>7.04</td>\n",
              "      <td>1253.91</td>\n",
              "    </tr>\n",
              "    <tr>\n",
              "      <th>365838</th>\n",
              "      <td>9.18</td>\n",
              "      <td>7.69</td>\n",
              "      <td>1240.34</td>\n",
              "    </tr>\n",
              "    <tr>\n",
              "      <th>131932</th>\n",
              "      <td>15.23</td>\n",
              "      <td>13.99</td>\n",
              "      <td>1196.63</td>\n",
              "    </tr>\n",
              "    <tr>\n",
              "      <th>146867</th>\n",
              "      <td>9.96</td>\n",
              "      <td>6.80</td>\n",
              "      <td>1238.66</td>\n",
              "    </tr>\n",
              "    <tr>\n",
              "      <th>121958</th>\n",
              "      <td>11.27</td>\n",
              "      <td>11.03</td>\n",
              "      <td>1220.01</td>\n",
              "    </tr>\n",
              "  </tbody>\n",
              "</table>\n",
              "<p>294385 rows × 3 columns</p>\n",
              "</div>"
            ],
            "text/plain": [
              "        VPmax (mbar)  H2OC (mmol/mol)  rho (g/m**3)\n",
              "167             4.34             4.14       1292.83\n",
              "23877          16.62            15.84       1185.59\n",
              "329918         16.95             9.38       1205.72\n",
              "253117         19.31            14.33       1176.20\n",
              "46683          10.89             8.99       1232.85\n",
              "...              ...              ...           ...\n",
              "259178          7.70             7.04       1253.91\n",
              "365838          9.18             7.69       1240.34\n",
              "131932         15.23            13.99       1196.63\n",
              "146867          9.96             6.80       1238.66\n",
              "121958         11.27            11.03       1220.01\n",
              "\n",
              "[294385 rows x 3 columns]"
            ]
          },
          "execution_count": 24,
          "metadata": {},
          "output_type": "execute_result"
        }
      ],
      "source": [
        "X_train "
      ]
    },
    {
      "cell_type": "code",
      "execution_count": 25,
      "metadata": {
        "colab": {
          "base_uri": "https://localhost:8080/",
          "height": 423
        },
        "id": "mCXPhufpz1c8",
        "outputId": "f03b299c-e6e3-43c4-d4d4-0243aca21cf9"
      },
      "outputs": [
        {
          "data": {
            "text/html": [
              "<div>\n",
              "<style scoped>\n",
              "    .dataframe tbody tr th:only-of-type {\n",
              "        vertical-align: middle;\n",
              "    }\n",
              "\n",
              "    .dataframe tbody tr th {\n",
              "        vertical-align: top;\n",
              "    }\n",
              "\n",
              "    .dataframe thead th {\n",
              "        text-align: right;\n",
              "    }\n",
              "</style>\n",
              "<table border=\"1\" class=\"dataframe\">\n",
              "  <thead>\n",
              "    <tr style=\"text-align: right;\">\n",
              "      <th></th>\n",
              "      <th>VPmax (mbar)</th>\n",
              "      <th>H2OC (mmol/mol)</th>\n",
              "      <th>rho (g/m**3)</th>\n",
              "    </tr>\n",
              "  </thead>\n",
              "  <tbody>\n",
              "    <tr>\n",
              "      <th>148963</th>\n",
              "      <td>14.29</td>\n",
              "      <td>12.14</td>\n",
              "      <td>1208.60</td>\n",
              "    </tr>\n",
              "    <tr>\n",
              "      <th>251175</th>\n",
              "      <td>12.75</td>\n",
              "      <td>12.80</td>\n",
              "      <td>1195.43</td>\n",
              "    </tr>\n",
              "    <tr>\n",
              "      <th>195409</th>\n",
              "      <td>14.96</td>\n",
              "      <td>13.32</td>\n",
              "      <td>1196.07</td>\n",
              "    </tr>\n",
              "    <tr>\n",
              "      <th>251028</th>\n",
              "      <td>13.18</td>\n",
              "      <td>12.11</td>\n",
              "      <td>1213.43</td>\n",
              "    </tr>\n",
              "    <tr>\n",
              "      <th>190017</th>\n",
              "      <td>21.03</td>\n",
              "      <td>12.02</td>\n",
              "      <td>1185.43</td>\n",
              "    </tr>\n",
              "    <tr>\n",
              "      <th>...</th>\n",
              "      <td>...</td>\n",
              "      <td>...</td>\n",
              "      <td>...</td>\n",
              "    </tr>\n",
              "    <tr>\n",
              "      <th>34265</th>\n",
              "      <td>20.45</td>\n",
              "      <td>17.78</td>\n",
              "      <td>1177.62</td>\n",
              "    </tr>\n",
              "    <tr>\n",
              "      <th>363766</th>\n",
              "      <td>10.48</td>\n",
              "      <td>6.95</td>\n",
              "      <td>1225.64</td>\n",
              "    </tr>\n",
              "    <tr>\n",
              "      <th>119730</th>\n",
              "      <td>19.53</td>\n",
              "      <td>9.39</td>\n",
              "      <td>1189.20</td>\n",
              "    </tr>\n",
              "    <tr>\n",
              "      <th>16914</th>\n",
              "      <td>23.02</td>\n",
              "      <td>11.52</td>\n",
              "      <td>1152.93</td>\n",
              "    </tr>\n",
              "    <tr>\n",
              "      <th>276876</th>\n",
              "      <td>15.82</td>\n",
              "      <td>10.85</td>\n",
              "      <td>1193.79</td>\n",
              "    </tr>\n",
              "  </tbody>\n",
              "</table>\n",
              "<p>126166 rows × 3 columns</p>\n",
              "</div>"
            ],
            "text/plain": [
              "        VPmax (mbar)  H2OC (mmol/mol)  rho (g/m**3)\n",
              "148963         14.29            12.14       1208.60\n",
              "251175         12.75            12.80       1195.43\n",
              "195409         14.96            13.32       1196.07\n",
              "251028         13.18            12.11       1213.43\n",
              "190017         21.03            12.02       1185.43\n",
              "...              ...              ...           ...\n",
              "34265          20.45            17.78       1177.62\n",
              "363766         10.48             6.95       1225.64\n",
              "119730         19.53             9.39       1189.20\n",
              "16914          23.02            11.52       1152.93\n",
              "276876         15.82            10.85       1193.79\n",
              "\n",
              "[126166 rows x 3 columns]"
            ]
          },
          "execution_count": 25,
          "metadata": {},
          "output_type": "execute_result"
        }
      ],
      "source": [
        "X_test"
      ]
    },
    {
      "cell_type": "markdown",
      "metadata": {
        "id": "PXs9K7ksz6pH"
      },
      "source": [
        "**Scaling a Data**"
      ]
    },
    {
      "cell_type": "code",
      "execution_count": 26,
      "metadata": {
        "id": "mRvZgXy4z4wy"
      },
      "outputs": [],
      "source": [
        "# standardize the data\n",
        "from sklearn.preprocessing import StandardScaler\n",
        "scaler = StandardScaler()\n",
        "X_train = scaler.fit_transform(X_train)\n",
        "X_test = scaler.transform(X_test)"
      ]
    },
    {
      "cell_type": "code",
      "execution_count": 27,
      "metadata": {},
      "outputs": [],
      "source": [
        "import pickle\n",
        "pickle.dump(scaler,open('scaling.pkl','wb'))"
      ]
    },
    {
      "cell_type": "code",
      "execution_count": 28,
      "metadata": {
        "colab": {
          "base_uri": "https://localhost:8080/"
        },
        "id": "kBaVmdxh0odt",
        "outputId": "2f50473b-d794-4364-8fbf-c6627d4eb954"
      },
      "outputs": [
        {
          "data": {
            "text/plain": [
              "array([[-1.19263707, -1.29760435,  1.91879778],\n",
              "       [ 0.39473111,  1.46747268, -0.76407971],\n",
              "       [ 0.4373884 , -0.05922797, -0.26047728],\n",
              "       ...,\n",
              "       [ 0.21505344,  1.03025965, -0.48788643],\n",
              "       [-0.46617052, -0.66896291,  0.56359941],\n",
              "       [-0.29683402,  0.33071879,  0.0970229 ]])"
            ]
          },
          "execution_count": 28,
          "metadata": {},
          "output_type": "execute_result"
        }
      ],
      "source": [
        "X_train #Standardized Training data"
      ]
    },
    {
      "cell_type": "code",
      "execution_count": 29,
      "metadata": {
        "colab": {
          "base_uri": "https://localhost:8080/"
        },
        "id": "CxgZpXLw0yAw",
        "outputId": "339fe61b-5c8e-45ba-ba0a-2fea2d8d35fe"
      },
      "outputs": [
        {
          "data": {
            "text/plain": [
              "array([[ 0.0935448 ,  0.59304661, -0.18842686],\n",
              "       [-0.10552254,  0.74902531, -0.51790744],\n",
              "       [ 0.18015202,  0.87191763, -0.50189623],\n",
              "       ...,\n",
              "       [ 0.77089083, -0.05686466, -0.67376651],\n",
              "       [ 1.22202397,  0.44652116, -1.5811515 ],\n",
              "       [ 0.2913195 ,  0.28817914, -0.55893615]])"
            ]
          },
          "execution_count": 29,
          "metadata": {},
          "output_type": "execute_result"
        }
      ],
      "source": [
        "X_test #Standardized Test data"
      ]
    },
    {
      "cell_type": "markdown",
      "metadata": {
        "id": "mIkZzgRM1Xs7"
      },
      "source": [
        "**Model Training**"
      ]
    },
    {
      "cell_type": "code",
      "execution_count": 30,
      "metadata": {
        "colab": {
          "base_uri": "https://localhost:8080/"
        },
        "id": "19yrutbY06Wr",
        "outputId": "53792917-6022-4158-aede-9bba11562898"
      },
      "outputs": [
        {
          "data": {
            "text/html": [
              "<style>#sk-container-id-1 {color: black;}#sk-container-id-1 pre{padding: 0;}#sk-container-id-1 div.sk-toggleable {background-color: white;}#sk-container-id-1 label.sk-toggleable__label {cursor: pointer;display: block;width: 100%;margin-bottom: 0;padding: 0.3em;box-sizing: border-box;text-align: center;}#sk-container-id-1 label.sk-toggleable__label-arrow:before {content: \"▸\";float: left;margin-right: 0.25em;color: #696969;}#sk-container-id-1 label.sk-toggleable__label-arrow:hover:before {color: black;}#sk-container-id-1 div.sk-estimator:hover label.sk-toggleable__label-arrow:before {color: black;}#sk-container-id-1 div.sk-toggleable__content {max-height: 0;max-width: 0;overflow: hidden;text-align: left;background-color: #f0f8ff;}#sk-container-id-1 div.sk-toggleable__content pre {margin: 0.2em;color: black;border-radius: 0.25em;background-color: #f0f8ff;}#sk-container-id-1 input.sk-toggleable__control:checked~div.sk-toggleable__content {max-height: 200px;max-width: 100%;overflow: auto;}#sk-container-id-1 input.sk-toggleable__control:checked~label.sk-toggleable__label-arrow:before {content: \"▾\";}#sk-container-id-1 div.sk-estimator input.sk-toggleable__control:checked~label.sk-toggleable__label {background-color: #d4ebff;}#sk-container-id-1 div.sk-label input.sk-toggleable__control:checked~label.sk-toggleable__label {background-color: #d4ebff;}#sk-container-id-1 input.sk-hidden--visually {border: 0;clip: rect(1px 1px 1px 1px);clip: rect(1px, 1px, 1px, 1px);height: 1px;margin: -1px;overflow: hidden;padding: 0;position: absolute;width: 1px;}#sk-container-id-1 div.sk-estimator {font-family: monospace;background-color: #f0f8ff;border: 1px dotted black;border-radius: 0.25em;box-sizing: border-box;margin-bottom: 0.5em;}#sk-container-id-1 div.sk-estimator:hover {background-color: #d4ebff;}#sk-container-id-1 div.sk-parallel-item::after {content: \"\";width: 100%;border-bottom: 1px solid gray;flex-grow: 1;}#sk-container-id-1 div.sk-label:hover label.sk-toggleable__label {background-color: #d4ebff;}#sk-container-id-1 div.sk-serial::before {content: \"\";position: absolute;border-left: 1px solid gray;box-sizing: border-box;top: 0;bottom: 0;left: 50%;z-index: 0;}#sk-container-id-1 div.sk-serial {display: flex;flex-direction: column;align-items: center;background-color: white;padding-right: 0.2em;padding-left: 0.2em;position: relative;}#sk-container-id-1 div.sk-item {position: relative;z-index: 1;}#sk-container-id-1 div.sk-parallel {display: flex;align-items: stretch;justify-content: center;background-color: white;position: relative;}#sk-container-id-1 div.sk-item::before, #sk-container-id-1 div.sk-parallel-item::before {content: \"\";position: absolute;border-left: 1px solid gray;box-sizing: border-box;top: 0;bottom: 0;left: 50%;z-index: -1;}#sk-container-id-1 div.sk-parallel-item {display: flex;flex-direction: column;z-index: 1;position: relative;background-color: white;}#sk-container-id-1 div.sk-parallel-item:first-child::after {align-self: flex-end;width: 50%;}#sk-container-id-1 div.sk-parallel-item:last-child::after {align-self: flex-start;width: 50%;}#sk-container-id-1 div.sk-parallel-item:only-child::after {width: 0;}#sk-container-id-1 div.sk-dashed-wrapped {border: 1px dashed gray;margin: 0 0.4em 0.5em 0.4em;box-sizing: border-box;padding-bottom: 0.4em;background-color: white;}#sk-container-id-1 div.sk-label label {font-family: monospace;font-weight: bold;display: inline-block;line-height: 1.2em;}#sk-container-id-1 div.sk-label-container {text-align: center;}#sk-container-id-1 div.sk-container {/* jupyter's `normalize.less` sets `[hidden] { display: none; }` but bootstrap.min.css set `[hidden] { display: none !important; }` so we also need the `!important` here to be able to override the default hidden behavior on the sphinx rendered scikit-learn.org. See: https://github.com/scikit-learn/scikit-learn/issues/21755 */display: inline-block !important;position: relative;}#sk-container-id-1 div.sk-text-repr-fallback {display: none;}</style><div id=\"sk-container-id-1\" class=\"sk-top-container\"><div class=\"sk-text-repr-fallback\"><pre>LinearRegression()</pre><b>In a Jupyter environment, please rerun this cell to show the HTML representation or trust the notebook. <br />On GitHub, the HTML representation is unable to render, please try loading this page with nbviewer.org.</b></div><div class=\"sk-container\" hidden><div class=\"sk-item\"><div class=\"sk-estimator sk-toggleable\"><input class=\"sk-toggleable__control sk-hidden--visually\" id=\"sk-estimator-id-1\" type=\"checkbox\" checked><label for=\"sk-estimator-id-1\" class=\"sk-toggleable__label sk-toggleable__label-arrow\">LinearRegression</label><div class=\"sk-toggleable__content\"><pre>LinearRegression()</pre></div></div></div></div></div>"
            ],
            "text/plain": [
              "LinearRegression()"
            ]
          },
          "execution_count": 30,
          "metadata": {},
          "output_type": "execute_result"
        }
      ],
      "source": [
        "# Building a Linear Regression model\n",
        "from sklearn.linear_model import LinearRegression\n",
        "regressor = LinearRegression()\n",
        "regressor.fit(X_train, y_train)"
      ]
    },
    {
      "cell_type": "code",
      "execution_count": 31,
      "metadata": {
        "colab": {
          "base_uri": "https://localhost:8080/"
        },
        "id": "ss5zd2je2mvD",
        "outputId": "85d619d8-5088-4ebc-f266-1e214018280a"
      },
      "outputs": [
        {
          "name": "stdout",
          "output_type": "stream",
          "text": [
            "[ 7.73607545e+00 -8.90167702e-16  1.15660886e-16]\n"
          ]
        }
      ],
      "source": [
        "# coefficients and intercept\n",
        "print(regressor.coef_)"
      ]
    },
    {
      "cell_type": "code",
      "execution_count": 32,
      "metadata": {
        "colab": {
          "base_uri": "https://localhost:8080/"
        },
        "id": "OCOGUc702_9i",
        "outputId": "1b5e524c-5c40-4a5d-a2e6-b406d94837b8"
      },
      "outputs": [
        {
          "name": "stdout",
          "output_type": "stream",
          "text": [
            "13.566330349712116\n"
          ]
        }
      ],
      "source": [
        "print(regressor.intercept_)"
      ]
    },
    {
      "cell_type": "code",
      "execution_count": 33,
      "metadata": {
        "id": "eQis2xpH3TfE"
      },
      "outputs": [],
      "source": [
        "# prediction with Test data\n",
        "reg_pred = regressor.predict(X_test)"
      ]
    },
    {
      "cell_type": "code",
      "execution_count": 34,
      "metadata": {
        "colab": {
          "base_uri": "https://localhost:8080/"
        },
        "id": "ec_5ckO_5Yfj",
        "outputId": "54fe2f35-2d4b-4694-8eac-53c052d109e2"
      },
      "outputs": [
        {
          "data": {
            "text/plain": [
              "array([14.29, 12.75, 14.96, ..., 19.53, 23.02, 15.82])"
            ]
          },
          "execution_count": 34,
          "metadata": {},
          "output_type": "execute_result"
        }
      ],
      "source": [
        "reg_pred"
      ]
    },
    {
      "cell_type": "code",
      "execution_count": 35,
      "metadata": {
        "colab": {
          "base_uri": "https://localhost:8080/",
          "height": 517
        },
        "id": "VNvimmCe55Wc",
        "outputId": "032a919f-b29a-4c3d-ba1e-01847167632b"
      },
      "outputs": [
        {
          "data": {
            "image/png": "[encoded data removed]",
            "text/plain": [
              "<Figure size 640x480 with 1 Axes>"
            ]
          },
          "metadata": {},
          "output_type": "display_data"
        }
      ],
      "source": [
        "# plot a Scatter plot for prediction and y_test)\n",
        "plt.scatter(y_test, reg_pred)\n",
        "plt.xlabel('True Value ')\n",
        "plt.ylabel('Predict value')\n",
        "plt.show()"
      ]
    },
    {
      "cell_type": "code",
      "execution_count": 36,
      "metadata": {
        "colab": {
          "base_uri": "https://localhost:8080/"
        },
        "id": "eKPrHjOI_24g",
        "outputId": "fe14e676-a180-4ac6-a840-1bc5142226ed"
      },
      "outputs": [
        {
          "data": {
            "text/plain": [
              "148963   -3.552714e-15\n",
              "251175    1.776357e-15\n",
              "195409   -5.329071e-15\n",
              "251028    0.000000e+00\n",
              "190017   -2.486900e-14\n",
              "              ...     \n",
              "34265    -2.131628e-14\n",
              "363766    7.105427e-15\n",
              "119730   -2.131628e-14\n",
              "16914    -3.197442e-14\n",
              "276876   -8.881784e-15\n",
              "Name: VPmax (mbar), Length: 126166, dtype: float64"
            ]
          },
          "execution_count": 36,
          "metadata": {},
          "output_type": "execute_result"
        }
      ],
      "source": [
        "# residuals\n",
        "residuals = y_test - reg_pred \n",
        "residuals"
      ]
    },
    {
      "cell_type": "code",
      "execution_count": 37,
      "metadata": {
        "colab": {
          "base_uri": "https://localhost:8080/",
          "height": 365
        },
        "id": "M0TIdkkRAiGT",
        "outputId": "a933e131-0428-4774-9e94-6b860d6ee10b"
      },
      "outputs": [
        {
          "name": "stderr",
          "output_type": "stream",
          "text": [
            "c:\\ProgramData\\anaconda3\\Lib\\site-packages\\seaborn\\_oldcore.py:1498: FutureWarning: is_categorical_dtype is deprecated and will be removed in a future version. Use isinstance(dtype, CategoricalDtype) instead\n",
            "  if pd.api.types.is_categorical_dtype(vector):\n",
            "c:\\ProgramData\\anaconda3\\Lib\\site-packages\\seaborn\\_oldcore.py:1119: FutureWarning: use_inf_as_na option is deprecated and will be removed in a future version. Convert inf values to NaN before operating instead.\n",
            "  with pd.option_context('mode.use_inf_as_na', True):\n"
          ]
        },
        {
          "data": {
            "image/png": "[encoded data removed]",
            "text/plain": [
              "<Figure size 500x500 with 1 Axes>"
            ]
          },
          "metadata": {},
          "output_type": "display_data"
        }
      ],
      "source": [
        "# plot the residuals\n",
        "sns.displot(residuals, kind='kde')\n",
        "plt.show()"
      ]
    },
    {
      "cell_type": "code",
      "execution_count": 38,
      "metadata": {
        "colab": {
          "base_uri": "https://localhost:8080/",
          "height": 500
        },
        "id": "3YOYZohZBGcx",
        "outputId": "527ff8f7-1308-488a-c098-166444452ae8"
      },
      "outputs": [
        {
          "data": {
            "image/png": "[encoded data removed]",
            "text/plain": [
              "<Figure size 640x480 with 1 Axes>"
            ]
          },
          "metadata": {},
          "output_type": "display_data"
        }
      ],
      "source": [
        "# plot a Scatter plot for prediction and Residuals\n",
        "plt.scatter(reg_pred, residuals)\n",
        "plt.show()"
      ]
    },
    {
      "cell_type": "markdown",
      "metadata": {
        "id": "IYoBysvODATo"
      },
      "source": [
        "Evaluating the Model"
      ]
    },
    {
      "cell_type": "code",
      "execution_count": 39,
      "metadata": {
        "colab": {
          "base_uri": "https://localhost:8080/"
        },
        "id": "uaOSwbhwBkCe",
        "outputId": "5a7bd744-11b8-454c-a89b-5dc5e2836912"
      },
      "outputs": [
        {
          "name": "stdout",
          "output_type": "stream",
          "text": [
            "Mean Squared error :  2.340267336642995e-14\n",
            "Mean Absolute error:  1.7653603815550894e-14\n"
          ]
        }
      ],
      "source": [
        "# mean squared error \n",
        "# mean absolute error\n",
        "from sklearn.metrics import mean_squared_error\n",
        "from sklearn.metrics import mean_absolute_error \n",
        "\n",
        "print('Mean Squared error : ', np.sqrt(mean_squared_error(y_test, reg_pred)))\n",
        "print('Mean Absolute error: ', mean_absolute_error(y_test, reg_pred))"
      ]
    },
    {
      "cell_type": "code",
      "execution_count": 40,
      "metadata": {
        "colab": {
          "base_uri": "https://localhost:8080/"
        },
        "id": "TaXKApnCHS_J",
        "outputId": "b279f081-ed3b-42f0-9cfa-a04f2815fbfd"
      },
      "outputs": [
        {
          "name": "stdout",
          "output_type": "stream",
          "text": [
            "1.0\n"
          ]
        }
      ],
      "source": [
        "# R squared value \n",
        "from sklearn.metrics import r2_score\n",
        "score = r2_score(y_test, reg_pred)\n",
        "print(score)"
      ]
    },
    {
      "cell_type": "markdown",
      "metadata": {
        "id": "KMJOA_GhbX6O"
      },
      "source": [
        "**Pickling the model**"
      ]
    },
    {
      "cell_type": "code",
      "execution_count": 41,
      "metadata": {
        "id": "EOUAYZjZa_k_"
      },
      "outputs": [],
      "source": [
        "import pickle"
      ]
    },
    {
      "cell_type": "code",
      "execution_count": 42,
      "metadata": {
        "id": "wKAwh69Rbzw3"
      },
      "outputs": [],
      "source": [
        "pickle.dump(regressor,open('coba.pkl','wb'))"
      ]
    },
    {
      "cell_type": "code",
      "execution_count": 43,
      "metadata": {
        "id": "u5ZHq6IXcwx_"
      },
      "outputs": [],
      "source": [
        "pickled_model = pickle.load(open('coba.pkl','rb'))"
      ]
    }
  ],
  "metadata": {
    "colab": {
      "provenance": []
    },
    "kernelspec": {
      "display_name": "MyEnvironment",
      "language": "python",
      "name": "python3"
    },
    "language_info": {
      "codemirror_mode": {
        "name": "ipython",
        "version": 3
      },
      "file_extension": ".py",
      "mimetype": "text/x-python",
      "name": "python",
      "nbconvert_exporter": "python",
      "pygments_lexer": "ipython3",
      "version": "3.11.5"
    },
    "vscode": {
      "interpreter": {
        "hash": "9807077dd2cc5623bba9adac44a04cfccb4c6b7ebc6604dc786e617cad603701"
      }
    }
  },
  "nbformat": 4,
  "nbformat_minor": 0
}
